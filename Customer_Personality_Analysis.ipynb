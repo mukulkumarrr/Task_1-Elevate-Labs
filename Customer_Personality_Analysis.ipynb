{
 "cells": [
  {
   "cell_type": "markdown",
   "id": "14b371f5",
   "metadata": {},
   "source": [
    "Task 1: Customer Personality Analysis- Data cleaning"
   ]
  },
  {
   "cell_type": "markdown",
   "id": "e62b1278",
   "metadata": {},
   "source": [
    "Step 1: Importing libraries"
   ]
  },
  {
   "cell_type": "code",
   "execution_count": 1,
   "id": "69b4d2f6",
   "metadata": {},
   "outputs": [],
   "source": [
    "import pandas as pd"
   ]
  },
  {
   "cell_type": "markdown",
   "id": "c64c2437",
   "metadata": {},
   "source": [
    "Step 2 : Reading file, first row as header and seperator as tab"
   ]
  },
  {
   "cell_type": "code",
   "execution_count": 2,
   "id": "1255379a",
   "metadata": {},
   "outputs": [],
   "source": [
    "df = pd.read_csv(\"marketing.csv\",header=0,sep='\\t')"
   ]
  },
  {
   "cell_type": "markdown",
   "id": "be6ae191",
   "metadata": {},
   "source": [
    "Step 3: Looking the table Structure"
   ]
  },
  {
   "cell_type": "code",
   "execution_count": 3,
   "id": "b02a330f",
   "metadata": {},
   "outputs": [
    {
     "name": "stdout",
     "output_type": "stream",
     "text": [
      "<class 'pandas.core.frame.DataFrame'>\n",
      "RangeIndex: 2240 entries, 0 to 2239\n",
      "Data columns (total 29 columns):\n",
      " #   Column               Non-Null Count  Dtype  \n",
      "---  ------               --------------  -----  \n",
      " 0   ID                   2240 non-null   int64  \n",
      " 1   Year_Birth           2240 non-null   int64  \n",
      " 2   Education            2240 non-null   object \n",
      " 3   Marital_Status       2240 non-null   object \n",
      " 4   Income               2216 non-null   float64\n",
      " 5   Kidhome              2240 non-null   int64  \n",
      " 6   Teenhome             2240 non-null   int64  \n",
      " 7   Dt_Customer          2240 non-null   object \n",
      " 8   Recency              2240 non-null   int64  \n",
      " 9   MntWines             2240 non-null   int64  \n",
      " 10  MntFruits            2240 non-null   int64  \n",
      " 11  MntMeatProducts      2240 non-null   int64  \n",
      " 12  MntFishProducts      2240 non-null   int64  \n",
      " 13  MntSweetProducts     2240 non-null   int64  \n",
      " 14  MntGoldProds         2240 non-null   int64  \n",
      " 15  NumDealsPurchases    2240 non-null   int64  \n",
      " 16  NumWebPurchases      2240 non-null   int64  \n",
      " 17  NumCatalogPurchases  2240 non-null   int64  \n",
      " 18  NumStorePurchases    2240 non-null   int64  \n",
      " 19  NumWebVisitsMonth    2240 non-null   int64  \n",
      " 20  AcceptedCmp3         2240 non-null   int64  \n",
      " 21  AcceptedCmp4         2240 non-null   int64  \n",
      " 22  AcceptedCmp5         2240 non-null   int64  \n",
      " 23  AcceptedCmp1         2240 non-null   int64  \n",
      " 24  AcceptedCmp2         2240 non-null   int64  \n",
      " 25  Complain             2240 non-null   int64  \n",
      " 26  Z_CostContact        2240 non-null   int64  \n",
      " 27  Z_Revenue            2240 non-null   int64  \n",
      " 28  Response             2240 non-null   int64  \n",
      "dtypes: float64(1), int64(25), object(3)\n",
      "memory usage: 507.6+ KB\n"
     ]
    }
   ],
   "source": [
    "df.info()"
   ]
  },
  {
   "cell_type": "markdown",
   "id": "5395da07",
   "metadata": {},
   "source": [
    "Step 4 : Checking of missing values within each column in the data frame."
   ]
  },
  {
   "cell_type": "code",
   "execution_count": 4,
   "id": "950acb19",
   "metadata": {},
   "outputs": [
    {
     "data": {
      "text/plain": [
       "ID                      0\n",
       "Year_Birth              0\n",
       "Education               0\n",
       "Marital_Status          0\n",
       "Income                 24\n",
       "Kidhome                 0\n",
       "Teenhome                0\n",
       "Dt_Customer             0\n",
       "Recency                 0\n",
       "MntWines                0\n",
       "MntFruits               0\n",
       "MntMeatProducts         0\n",
       "MntFishProducts         0\n",
       "MntSweetProducts        0\n",
       "MntGoldProds            0\n",
       "NumDealsPurchases       0\n",
       "NumWebPurchases         0\n",
       "NumCatalogPurchases     0\n",
       "NumStorePurchases       0\n",
       "NumWebVisitsMonth       0\n",
       "AcceptedCmp3            0\n",
       "AcceptedCmp4            0\n",
       "AcceptedCmp5            0\n",
       "AcceptedCmp1            0\n",
       "AcceptedCmp2            0\n",
       "Complain                0\n",
       "Z_CostContact           0\n",
       "Z_Revenue               0\n",
       "Response                0\n",
       "dtype: int64"
      ]
     },
     "execution_count": 4,
     "metadata": {},
     "output_type": "execute_result"
    }
   ],
   "source": [
    "df.isnull().sum()"
   ]
  },
  {
   "cell_type": "markdown",
   "id": "e08c4ef6",
   "metadata": {},
   "source": [
    "Step 5 : Removing empty cells"
   ]
  },
  {
   "cell_type": "code",
   "execution_count": 9,
   "id": "7446be88",
   "metadata": {},
   "outputs": [
    {
     "name": "stdout",
     "output_type": "stream",
     "text": [
      "         ID  Year_Birth   Education Marital_Status   Income  Kidhome  Teenhome Dt_Customer  Recency  MntWines  MntFruits  MntMeatProducts  MntFishProducts  MntSweetProducts  MntGoldProds  NumDealsPurchases  NumWebPurchases  NumCatalogPurchases  NumStorePurchases  NumWebVisitsMonth  AcceptedCmp3  AcceptedCmp4  AcceptedCmp5  AcceptedCmp1  AcceptedCmp2  Complain  Z_CostContact  Z_Revenue  Response\n",
      "0      5524        1957  Graduation         Single  58138.0        0         0  2012-09-04       58       635         88              546              172                88            88                  3                8                   10                  4                  7             0             0             0             0             0         0              3         11         1\n",
      "1      2174        1954  Graduation         Single  46344.0        1         1  2014-03-08       38        11          1                6                2                 1             6                  2                1                    1                  2                  5             0             0             0             0             0         0              3         11         0\n",
      "2      4141        1965  Graduation       Together  71613.0        0         0  2013-08-21       26       426         49              127              111                21            42                  1                8                    2                 10                  4             0             0             0             0             0         0              3         11         0\n",
      "3      6182        1984  Graduation       Together  26646.0        1         0  2014-02-10       26        11          4               20               10                 3             5                  2                2                    0                  4                  6             0             0             0             0             0         0              3         11         0\n",
      "4      5324        1981         PhD        Married  58293.0        1         0  2014-01-19       94       173         43              118               46                27            15                  5                5                    3                  6                  5             0             0             0             0             0         0              3         11         0\n",
      "...     ...         ...         ...            ...      ...      ...       ...         ...      ...       ...        ...              ...              ...               ...           ...                ...              ...                  ...                ...                ...           ...           ...           ...           ...           ...       ...            ...        ...       ...\n",
      "2235  10870        1967  Graduation        Married  61223.0        0         1  2013-06-13       46       709         43              182               42               118           247                  2                9                    3                  4                  5             0             0             0             0             0         0              3         11         0\n",
      "2236   4001        1946         PhD       Together  64014.0        2         1  2014-06-10       56       406          0               30                0                 0             8                  7                8                    2                  5                  7             0             0             0             1             0         0              3         11         0\n",
      "2237   7270        1981  Graduation       Divorced  56981.0        0         0  2014-01-25       91       908         48              217               32                12            24                  1                2                    3                 13                  6             0             1             0             0             0         0              3         11         0\n",
      "2238   8235        1956      Master       Together  69245.0        0         1  2014-01-24        8       428         30              214               80                30            61                  2                6                    5                 10                  3             0             0             0             0             0         0              3         11         0\n",
      "2239   9405        1954         PhD        Married  52869.0        1         1  2012-10-15       40        84          3               61                2                 1            21                  3                3                    1                  4                  7             0             0             0             0             0         0              3         11         1\n"
     ]
    }
   ],
   "source": [
    "df.dropna(inplace = True)\n",
    "\n",
    "print(df.to_string(max_rows=10)) #view 10 rows"
   ]
  },
  {
   "cell_type": "markdown",
   "id": "03e340be",
   "metadata": {},
   "source": [
    "Step 6 : Checking duplicate Values"
   ]
  },
  {
   "cell_type": "code",
   "execution_count": 6,
   "id": "a4087687",
   "metadata": {},
   "outputs": [
    {
     "data": {
      "text/plain": [
       "np.int64(0)"
      ]
     },
     "execution_count": 6,
     "metadata": {},
     "output_type": "execute_result"
    }
   ],
   "source": [
    "df.duplicated().sum()"
   ]
  },
  {
   "cell_type": "markdown",
   "id": "76ff3f11",
   "metadata": {},
   "source": [
    "Step 7 : Changing data formats"
   ]
  },
  {
   "cell_type": "code",
   "execution_count": 10,
   "id": "939662f0",
   "metadata": {},
   "outputs": [
    {
     "name": "stdout",
     "output_type": "stream",
     "text": [
      "         ID  Year_Birth   Education Marital_Status   Income  Kidhome  Teenhome Dt_Customer  Recency  MntWines  MntFruits  MntMeatProducts  MntFishProducts  MntSweetProducts  MntGoldProds  NumDealsPurchases  NumWebPurchases  NumCatalogPurchases  NumStorePurchases  NumWebVisitsMonth  AcceptedCmp3  AcceptedCmp4  AcceptedCmp5  AcceptedCmp1  AcceptedCmp2  Complain  Z_CostContact  Z_Revenue  Response\n",
      "0      5524        1957  Graduation         Single  58138.0        0         0  2012-09-04       58       635         88              546              172                88            88                  3                8                   10                  4                  7             0             0             0             0             0         0              3         11         1\n",
      "1      2174        1954  Graduation         Single  46344.0        1         1  2014-03-08       38        11          1                6                2                 1             6                  2                1                    1                  2                  5             0             0             0             0             0         0              3         11         0\n",
      "2      4141        1965  Graduation       Together  71613.0        0         0  2013-08-21       26       426         49              127              111                21            42                  1                8                    2                 10                  4             0             0             0             0             0         0              3         11         0\n",
      "3      6182        1984  Graduation       Together  26646.0        1         0  2014-02-10       26        11          4               20               10                 3             5                  2                2                    0                  4                  6             0             0             0             0             0         0              3         11         0\n",
      "4      5324        1981         PhD        Married  58293.0        1         0  2014-01-19       94       173         43              118               46                27            15                  5                5                    3                  6                  5             0             0             0             0             0         0              3         11         0\n",
      "...     ...         ...         ...            ...      ...      ...       ...         ...      ...       ...        ...              ...              ...               ...           ...                ...              ...                  ...                ...                ...           ...           ...           ...           ...           ...       ...            ...        ...       ...\n",
      "2235  10870        1967  Graduation        Married  61223.0        0         1  2013-06-13       46       709         43              182               42               118           247                  2                9                    3                  4                  5             0             0             0             0             0         0              3         11         0\n",
      "2236   4001        1946         PhD       Together  64014.0        2         1  2014-06-10       56       406          0               30                0                 0             8                  7                8                    2                  5                  7             0             0             0             1             0         0              3         11         0\n",
      "2237   7270        1981  Graduation       Divorced  56981.0        0         0  2014-01-25       91       908         48              217               32                12            24                  1                2                    3                 13                  6             0             1             0             0             0         0              3         11         0\n",
      "2238   8235        1956      Master       Together  69245.0        0         1  2014-01-24        8       428         30              214               80                30            61                  2                6                    5                 10                  3             0             0             0             0             0         0              3         11         0\n",
      "2239   9405        1954         PhD        Married  52869.0        1         1  2012-10-15       40        84          3               61                2                 1            21                  3                3                    1                  4                  7             0             0             0             0             0         0              3         11         1\n"
     ]
    }
   ],
   "source": [
    "df['Dt_Customer'] = pd.to_datetime(df['Dt_Customer'],format='%d-%m-%Y', errors='coerce')\n",
    "\n",
    "print(df.to_string(max_rows=10))"
   ]
  },
  {
   "cell_type": "markdown",
   "id": "69881bcf",
   "metadata": {},
   "source": [
    "Step 8: Saving the cleaned csv file"
   ]
  },
  {
   "cell_type": "code",
   "execution_count": 8,
   "id": "85695432",
   "metadata": {},
   "outputs": [
    {
     "name": "stdout",
     "output_type": "stream",
     "text": [
      "<class 'pandas.core.frame.DataFrame'>\n",
      "Index: 2216 entries, 0 to 2239\n",
      "Data columns (total 29 columns):\n",
      " #   Column               Non-Null Count  Dtype         \n",
      "---  ------               --------------  -----         \n",
      " 0   ID                   2216 non-null   int64         \n",
      " 1   Year_Birth           2216 non-null   int64         \n",
      " 2   Education            2216 non-null   object        \n",
      " 3   Marital_Status       2216 non-null   object        \n",
      " 4   Income               2216 non-null   float64       \n",
      " 5   Kidhome              2216 non-null   int64         \n",
      " 6   Teenhome             2216 non-null   int64         \n",
      " 7   Dt_Customer          2216 non-null   datetime64[ns]\n",
      " 8   Recency              2216 non-null   int64         \n",
      " 9   MntWines             2216 non-null   int64         \n",
      " 10  MntFruits            2216 non-null   int64         \n",
      " 11  MntMeatProducts      2216 non-null   int64         \n",
      " 12  MntFishProducts      2216 non-null   int64         \n",
      " 13  MntSweetProducts     2216 non-null   int64         \n",
      " 14  MntGoldProds         2216 non-null   int64         \n",
      " 15  NumDealsPurchases    2216 non-null   int64         \n",
      " 16  NumWebPurchases      2216 non-null   int64         \n",
      " 17  NumCatalogPurchases  2216 non-null   int64         \n",
      " 18  NumStorePurchases    2216 non-null   int64         \n",
      " 19  NumWebVisitsMonth    2216 non-null   int64         \n",
      " 20  AcceptedCmp3         2216 non-null   int64         \n",
      " 21  AcceptedCmp4         2216 non-null   int64         \n",
      " 22  AcceptedCmp5         2216 non-null   int64         \n",
      " 23  AcceptedCmp1         2216 non-null   int64         \n",
      " 24  AcceptedCmp2         2216 non-null   int64         \n",
      " 25  Complain             2216 non-null   int64         \n",
      " 26  Z_CostContact        2216 non-null   int64         \n",
      " 27  Z_Revenue            2216 non-null   int64         \n",
      " 28  Response             2216 non-null   int64         \n",
      "dtypes: datetime64[ns](1), float64(1), int64(25), object(2)\n",
      "memory usage: 519.4+ KB\n"
     ]
    }
   ],
   "source": [
    "df.info()\n",
    "#df.to_csv(\"cleaned.csv\")"
   ]
  }
 ],
 "metadata": {
  "kernelspec": {
   "display_name": "Python 3",
   "language": "python",
   "name": "python3"
  },
  "language_info": {
   "codemirror_mode": {
    "name": "ipython",
    "version": 3
   },
   "file_extension": ".py",
   "mimetype": "text/x-python",
   "name": "python",
   "nbconvert_exporter": "python",
   "pygments_lexer": "ipython3",
   "version": "3.13.2"
  }
 },
 "nbformat": 4,
 "nbformat_minor": 5
}
